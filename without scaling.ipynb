{
 "cells": [
  {
   "cell_type": "code",
   "execution_count": 1,
   "id": "289a42eb",
   "metadata": {},
   "outputs": [],
   "source": [
    "import pandas as pd\n",
    "import numpy as np\n",
    "import matplotlib.pyplot as plt\n",
    "import seaborn as sns\n",
    "from sklearn.model_selection import train_test_split\n",
    "#from sklearn.preprocessing import StandardScaler\n",
    "from sklearn.decomposition import PCA\n",
    "from sklearn.linear_model import LogisticRegression\n",
    "from sklearn.metrics import accuracy_score, precision_score, recall_score, f1_score\n",
    "from sklearn import svm\n",
    "from sklearn.neighbors import KNeighborsClassifier\n",
    "from sklearn.tree import DecisionTreeClassifier\n",
    "from sklearn.ensemble import RandomForestClassifier, GradientBoostingClassifier\n",
    "from imblearn.over_sampling import SMOTE\n",
    "import joblib"
   ]
  },
  {
   "cell_type": "code",
   "execution_count": 2,
   "id": "65104d68",
   "metadata": {},
   "outputs": [],
   "source": [
    "data=pd.read_csv(\"D:\\FCI\\Machine Learning\\Wine Quality\\winequality-red.csv\")"
   ]
  },
  {
   "cell_type": "code",
   "execution_count": 3,
   "id": "3059f534",
   "metadata": {},
   "outputs": [],
   "source": [
    "data['quality']=[1 if y>=7 else 0 for y in data['quality']]"
   ]
  },
  {
   "cell_type": "code",
   "execution_count": 4,
   "id": "e6f45da9",
   "metadata": {},
   "outputs": [],
   "source": [
    "X=data.drop('quality', axis=1)\n",
    "y=data['quality']"
   ]
  },
  {
   "cell_type": "code",
   "execution_count": 5,
   "id": "c5c575d8",
   "metadata": {},
   "outputs": [],
   "source": [
    "X_res, y_res=SMOTE(random_state=0).fit_resample(X,y)"
   ]
  },
  {
   "cell_type": "code",
   "execution_count": 6,
   "id": "23b1f40e",
   "metadata": {},
   "outputs": [],
   "source": [
    "X_train, X_test, y_train, y_test = train_test_split(X_res, y_res, test_size=0.2, random_state=42)"
   ]
  },
  {
   "cell_type": "code",
   "execution_count": 7,
   "id": "dff858bd",
   "metadata": {},
   "outputs": [
    {
     "data": {
      "text/plain": [
       "'\\npca=PCA(n_components=0.90)\\nX_train=pca.fit_transform(X_train)\\nX_test=pca.transform(X_test)\\n'"
      ]
     },
     "execution_count": 7,
     "metadata": {},
     "output_type": "execute_result"
    }
   ],
   "source": [
    "'''\n",
    "pca=PCA(n_components=0.90)\n",
    "X_train=pca.fit_transform(X_train)\n",
    "X_test=pca.transform(X_test)\n",
    "'''"
   ]
  },
  {
   "cell_type": "code",
   "execution_count": 8,
   "id": "d4940b5d",
   "metadata": {},
   "outputs": [
    {
     "data": {
      "text/html": [
       "<div>\n",
       "<style scoped>\n",
       "    .dataframe tbody tr th:only-of-type {\n",
       "        vertical-align: middle;\n",
       "    }\n",
       "\n",
       "    .dataframe tbody tr th {\n",
       "        vertical-align: top;\n",
       "    }\n",
       "\n",
       "    .dataframe thead th {\n",
       "        text-align: right;\n",
       "    }\n",
       "</style>\n",
       "<table border=\"1\" class=\"dataframe\">\n",
       "  <thead>\n",
       "    <tr style=\"text-align: right;\">\n",
       "      <th></th>\n",
       "      <th>fixed acidity</th>\n",
       "      <th>volatile acidity</th>\n",
       "      <th>citric acid</th>\n",
       "      <th>residual sugar</th>\n",
       "      <th>chlorides</th>\n",
       "      <th>free sulfur dioxide</th>\n",
       "      <th>total sulfur dioxide</th>\n",
       "      <th>density</th>\n",
       "      <th>pH</th>\n",
       "      <th>sulphates</th>\n",
       "      <th>alcohol</th>\n",
       "    </tr>\n",
       "  </thead>\n",
       "  <tbody>\n",
       "    <tr>\n",
       "      <th>2750</th>\n",
       "      <td>7.200000</td>\n",
       "      <td>0.360000</td>\n",
       "      <td>0.460000</td>\n",
       "      <td>2.100000</td>\n",
       "      <td>0.074000</td>\n",
       "      <td>24.000000</td>\n",
       "      <td>44.000000</td>\n",
       "      <td>0.995340</td>\n",
       "      <td>3.400000</td>\n",
       "      <td>0.850000</td>\n",
       "      <td>11.000000</td>\n",
       "    </tr>\n",
       "    <tr>\n",
       "      <th>1849</th>\n",
       "      <td>8.528464</td>\n",
       "      <td>0.353238</td>\n",
       "      <td>0.474021</td>\n",
       "      <td>1.955874</td>\n",
       "      <td>0.146339</td>\n",
       "      <td>5.960843</td>\n",
       "      <td>16.000000</td>\n",
       "      <td>0.994080</td>\n",
       "      <td>3.178825</td>\n",
       "      <td>0.752349</td>\n",
       "      <td>12.500000</td>\n",
       "    </tr>\n",
       "    <tr>\n",
       "      <th>651</th>\n",
       "      <td>9.800000</td>\n",
       "      <td>0.880000</td>\n",
       "      <td>0.250000</td>\n",
       "      <td>2.500000</td>\n",
       "      <td>0.104000</td>\n",
       "      <td>35.000000</td>\n",
       "      <td>155.000000</td>\n",
       "      <td>1.001000</td>\n",
       "      <td>3.410000</td>\n",
       "      <td>0.670000</td>\n",
       "      <td>11.200000</td>\n",
       "    </tr>\n",
       "    <tr>\n",
       "      <th>261</th>\n",
       "      <td>7.000000</td>\n",
       "      <td>0.975000</td>\n",
       "      <td>0.040000</td>\n",
       "      <td>2.000000</td>\n",
       "      <td>0.087000</td>\n",
       "      <td>12.000000</td>\n",
       "      <td>67.000000</td>\n",
       "      <td>0.995650</td>\n",
       "      <td>3.350000</td>\n",
       "      <td>0.600000</td>\n",
       "      <td>9.400000</td>\n",
       "    </tr>\n",
       "    <tr>\n",
       "      <th>1253</th>\n",
       "      <td>7.900000</td>\n",
       "      <td>0.660000</td>\n",
       "      <td>0.000000</td>\n",
       "      <td>1.400000</td>\n",
       "      <td>0.096000</td>\n",
       "      <td>6.000000</td>\n",
       "      <td>13.000000</td>\n",
       "      <td>0.995690</td>\n",
       "      <td>3.430000</td>\n",
       "      <td>0.580000</td>\n",
       "      <td>9.500000</td>\n",
       "    </tr>\n",
       "    <tr>\n",
       "      <th>...</th>\n",
       "      <td>...</td>\n",
       "      <td>...</td>\n",
       "      <td>...</td>\n",
       "      <td>...</td>\n",
       "      <td>...</td>\n",
       "      <td>...</td>\n",
       "      <td>...</td>\n",
       "      <td>...</td>\n",
       "      <td>...</td>\n",
       "      <td>...</td>\n",
       "      <td>...</td>\n",
       "    </tr>\n",
       "    <tr>\n",
       "      <th>1638</th>\n",
       "      <td>8.382916</td>\n",
       "      <td>0.352592</td>\n",
       "      <td>0.305508</td>\n",
       "      <td>1.723417</td>\n",
       "      <td>0.061937</td>\n",
       "      <td>5.297497</td>\n",
       "      <td>15.234168</td>\n",
       "      <td>0.995465</td>\n",
       "      <td>3.328100</td>\n",
       "      <td>0.782150</td>\n",
       "      <td>11.495582</td>\n",
       "    </tr>\n",
       "    <tr>\n",
       "      <th>1095</th>\n",
       "      <td>9.400000</td>\n",
       "      <td>0.400000</td>\n",
       "      <td>0.470000</td>\n",
       "      <td>2.500000</td>\n",
       "      <td>0.087000</td>\n",
       "      <td>6.000000</td>\n",
       "      <td>20.000000</td>\n",
       "      <td>0.997720</td>\n",
       "      <td>3.150000</td>\n",
       "      <td>0.500000</td>\n",
       "      <td>10.500000</td>\n",
       "    </tr>\n",
       "    <tr>\n",
       "      <th>1130</th>\n",
       "      <td>9.100000</td>\n",
       "      <td>0.600000</td>\n",
       "      <td>0.000000</td>\n",
       "      <td>1.900000</td>\n",
       "      <td>0.058000</td>\n",
       "      <td>5.000000</td>\n",
       "      <td>10.000000</td>\n",
       "      <td>0.997700</td>\n",
       "      <td>3.180000</td>\n",
       "      <td>0.630000</td>\n",
       "      <td>10.400000</td>\n",
       "    </tr>\n",
       "    <tr>\n",
       "      <th>1294</th>\n",
       "      <td>8.200000</td>\n",
       "      <td>0.635000</td>\n",
       "      <td>0.100000</td>\n",
       "      <td>2.100000</td>\n",
       "      <td>0.073000</td>\n",
       "      <td>25.000000</td>\n",
       "      <td>60.000000</td>\n",
       "      <td>0.996380</td>\n",
       "      <td>3.290000</td>\n",
       "      <td>0.750000</td>\n",
       "      <td>10.900000</td>\n",
       "    </tr>\n",
       "    <tr>\n",
       "      <th>860</th>\n",
       "      <td>7.200000</td>\n",
       "      <td>0.620000</td>\n",
       "      <td>0.060000</td>\n",
       "      <td>2.700000</td>\n",
       "      <td>0.077000</td>\n",
       "      <td>15.000000</td>\n",
       "      <td>85.000000</td>\n",
       "      <td>0.997460</td>\n",
       "      <td>3.510000</td>\n",
       "      <td>0.540000</td>\n",
       "      <td>9.500000</td>\n",
       "    </tr>\n",
       "  </tbody>\n",
       "</table>\n",
       "<p>2211 rows × 11 columns</p>\n",
       "</div>"
      ],
      "text/plain": [
       "      fixed acidity  volatile acidity  citric acid  residual sugar  chlorides  \\\n",
       "2750       7.200000          0.360000     0.460000        2.100000   0.074000   \n",
       "1849       8.528464          0.353238     0.474021        1.955874   0.146339   \n",
       "651        9.800000          0.880000     0.250000        2.500000   0.104000   \n",
       "261        7.000000          0.975000     0.040000        2.000000   0.087000   \n",
       "1253       7.900000          0.660000     0.000000        1.400000   0.096000   \n",
       "...             ...               ...          ...             ...        ...   \n",
       "1638       8.382916          0.352592     0.305508        1.723417   0.061937   \n",
       "1095       9.400000          0.400000     0.470000        2.500000   0.087000   \n",
       "1130       9.100000          0.600000     0.000000        1.900000   0.058000   \n",
       "1294       8.200000          0.635000     0.100000        2.100000   0.073000   \n",
       "860        7.200000          0.620000     0.060000        2.700000   0.077000   \n",
       "\n",
       "      free sulfur dioxide  total sulfur dioxide   density        pH  \\\n",
       "2750            24.000000             44.000000  0.995340  3.400000   \n",
       "1849             5.960843             16.000000  0.994080  3.178825   \n",
       "651             35.000000            155.000000  1.001000  3.410000   \n",
       "261             12.000000             67.000000  0.995650  3.350000   \n",
       "1253             6.000000             13.000000  0.995690  3.430000   \n",
       "...                   ...                   ...       ...       ...   \n",
       "1638             5.297497             15.234168  0.995465  3.328100   \n",
       "1095             6.000000             20.000000  0.997720  3.150000   \n",
       "1130             5.000000             10.000000  0.997700  3.180000   \n",
       "1294            25.000000             60.000000  0.996380  3.290000   \n",
       "860             15.000000             85.000000  0.997460  3.510000   \n",
       "\n",
       "      sulphates    alcohol  \n",
       "2750   0.850000  11.000000  \n",
       "1849   0.752349  12.500000  \n",
       "651    0.670000  11.200000  \n",
       "261    0.600000   9.400000  \n",
       "1253   0.580000   9.500000  \n",
       "...         ...        ...  \n",
       "1638   0.782150  11.495582  \n",
       "1095   0.500000  10.500000  \n",
       "1130   0.630000  10.400000  \n",
       "1294   0.750000  10.900000  \n",
       "860    0.540000   9.500000  \n",
       "\n",
       "[2211 rows x 11 columns]"
      ]
     },
     "execution_count": 8,
     "metadata": {},
     "output_type": "execute_result"
    }
   ],
   "source": [
    "X_train"
   ]
  },
  {
   "cell_type": "code",
   "execution_count": 9,
   "id": "d22647c9",
   "metadata": {},
   "outputs": [
    {
     "data": {
      "text/plain": [
       "fixed acidity            15.90000\n",
       "volatile acidity          1.33000\n",
       "citric acid               1.00000\n",
       "residual sugar           15.50000\n",
       "chlorides                 0.61100\n",
       "free sulfur dioxide      68.00000\n",
       "total sulfur dioxide    289.00000\n",
       "density                   1.00369\n",
       "pH                        4.01000\n",
       "sulphates                 2.00000\n",
       "alcohol                  14.90000\n",
       "dtype: float64"
      ]
     },
     "execution_count": 9,
     "metadata": {},
     "output_type": "execute_result"
    }
   ],
   "source": [
    "X_train.max()"
   ]
  },
  {
   "cell_type": "code",
   "execution_count": 10,
   "id": "c32a1bdf",
   "metadata": {},
   "outputs": [
    {
     "data": {
      "text/plain": [
       "(2211, 11)"
      ]
     },
     "execution_count": 10,
     "metadata": {},
     "output_type": "execute_result"
    }
   ],
   "source": [
    "X_train.shape"
   ]
  },
  {
   "cell_type": "code",
   "execution_count": 11,
   "id": "f79442ac",
   "metadata": {},
   "outputs": [
    {
     "data": {
      "text/html": [
       "<div>\n",
       "<style scoped>\n",
       "    .dataframe tbody tr th:only-of-type {\n",
       "        vertical-align: middle;\n",
       "    }\n",
       "\n",
       "    .dataframe tbody tr th {\n",
       "        vertical-align: top;\n",
       "    }\n",
       "\n",
       "    .dataframe thead th {\n",
       "        text-align: right;\n",
       "    }\n",
       "</style>\n",
       "<table border=\"1\" class=\"dataframe\">\n",
       "  <thead>\n",
       "    <tr style=\"text-align: right;\">\n",
       "      <th></th>\n",
       "      <th>fixed acidity</th>\n",
       "      <th>volatile acidity</th>\n",
       "      <th>citric acid</th>\n",
       "      <th>residual sugar</th>\n",
       "      <th>chlorides</th>\n",
       "      <th>free sulfur dioxide</th>\n",
       "      <th>total sulfur dioxide</th>\n",
       "      <th>density</th>\n",
       "      <th>pH</th>\n",
       "      <th>sulphates</th>\n",
       "      <th>alcohol</th>\n",
       "    </tr>\n",
       "  </thead>\n",
       "  <tbody>\n",
       "    <tr>\n",
       "      <th>1988</th>\n",
       "      <td>8.989347</td>\n",
       "      <td>0.339794</td>\n",
       "      <td>0.368728</td>\n",
       "      <td>2.132989</td>\n",
       "      <td>0.065766</td>\n",
       "      <td>12.446737</td>\n",
       "      <td>27.553263</td>\n",
       "      <td>0.994994</td>\n",
       "      <td>3.265533</td>\n",
       "      <td>0.790206</td>\n",
       "      <td>12.197937</td>\n",
       "    </tr>\n",
       "    <tr>\n",
       "      <th>1216</th>\n",
       "      <td>7.900000</td>\n",
       "      <td>0.570000</td>\n",
       "      <td>0.310000</td>\n",
       "      <td>2.000000</td>\n",
       "      <td>0.079000</td>\n",
       "      <td>10.000000</td>\n",
       "      <td>79.000000</td>\n",
       "      <td>0.996770</td>\n",
       "      <td>3.290000</td>\n",
       "      <td>0.690000</td>\n",
       "      <td>9.500000</td>\n",
       "    </tr>\n",
       "    <tr>\n",
       "      <th>1385</th>\n",
       "      <td>8.000000</td>\n",
       "      <td>0.810000</td>\n",
       "      <td>0.250000</td>\n",
       "      <td>3.400000</td>\n",
       "      <td>0.076000</td>\n",
       "      <td>34.000000</td>\n",
       "      <td>85.000000</td>\n",
       "      <td>0.996680</td>\n",
       "      <td>3.190000</td>\n",
       "      <td>0.420000</td>\n",
       "      <td>9.200000</td>\n",
       "    </tr>\n",
       "    <tr>\n",
       "      <th>2562</th>\n",
       "      <td>7.817187</td>\n",
       "      <td>0.380573</td>\n",
       "      <td>0.439427</td>\n",
       "      <td>3.786977</td>\n",
       "      <td>0.075646</td>\n",
       "      <td>24.411458</td>\n",
       "      <td>43.177084</td>\n",
       "      <td>0.995324</td>\n",
       "      <td>3.334167</td>\n",
       "      <td>0.817083</td>\n",
       "      <td>11.658333</td>\n",
       "    </tr>\n",
       "    <tr>\n",
       "      <th>1334</th>\n",
       "      <td>7.200000</td>\n",
       "      <td>0.835000</td>\n",
       "      <td>0.000000</td>\n",
       "      <td>2.000000</td>\n",
       "      <td>0.166000</td>\n",
       "      <td>4.000000</td>\n",
       "      <td>11.000000</td>\n",
       "      <td>0.996080</td>\n",
       "      <td>3.390000</td>\n",
       "      <td>0.520000</td>\n",
       "      <td>10.000000</td>\n",
       "    </tr>\n",
       "    <tr>\n",
       "      <th>...</th>\n",
       "      <td>...</td>\n",
       "      <td>...</td>\n",
       "      <td>...</td>\n",
       "      <td>...</td>\n",
       "      <td>...</td>\n",
       "      <td>...</td>\n",
       "      <td>...</td>\n",
       "      <td>...</td>\n",
       "      <td>...</td>\n",
       "      <td>...</td>\n",
       "      <td>...</td>\n",
       "    </tr>\n",
       "    <tr>\n",
       "      <th>2330</th>\n",
       "      <td>8.139398</td>\n",
       "      <td>0.497272</td>\n",
       "      <td>0.276364</td>\n",
       "      <td>5.278786</td>\n",
       "      <td>0.066182</td>\n",
       "      <td>10.484847</td>\n",
       "      <td>19.030306</td>\n",
       "      <td>0.996767</td>\n",
       "      <td>3.373939</td>\n",
       "      <td>0.693031</td>\n",
       "      <td>11.521214</td>\n",
       "    </tr>\n",
       "    <tr>\n",
       "      <th>1694</th>\n",
       "      <td>9.475701</td>\n",
       "      <td>0.287477</td>\n",
       "      <td>0.470935</td>\n",
       "      <td>2.271028</td>\n",
       "      <td>0.076047</td>\n",
       "      <td>10.523365</td>\n",
       "      <td>19.953271</td>\n",
       "      <td>0.995928</td>\n",
       "      <td>3.315794</td>\n",
       "      <td>0.691963</td>\n",
       "      <td>11.742991</td>\n",
       "    </tr>\n",
       "    <tr>\n",
       "      <th>100</th>\n",
       "      <td>8.300000</td>\n",
       "      <td>0.610000</td>\n",
       "      <td>0.300000</td>\n",
       "      <td>2.100000</td>\n",
       "      <td>0.084000</td>\n",
       "      <td>11.000000</td>\n",
       "      <td>50.000000</td>\n",
       "      <td>0.997200</td>\n",
       "      <td>3.400000</td>\n",
       "      <td>0.610000</td>\n",
       "      <td>10.200000</td>\n",
       "    </tr>\n",
       "    <tr>\n",
       "      <th>315</th>\n",
       "      <td>7.100000</td>\n",
       "      <td>0.350000</td>\n",
       "      <td>0.290000</td>\n",
       "      <td>2.500000</td>\n",
       "      <td>0.096000</td>\n",
       "      <td>20.000000</td>\n",
       "      <td>53.000000</td>\n",
       "      <td>0.996200</td>\n",
       "      <td>3.420000</td>\n",
       "      <td>0.650000</td>\n",
       "      <td>11.000000</td>\n",
       "    </tr>\n",
       "    <tr>\n",
       "      <th>1587</th>\n",
       "      <td>5.800000</td>\n",
       "      <td>0.610000</td>\n",
       "      <td>0.110000</td>\n",
       "      <td>1.800000</td>\n",
       "      <td>0.066000</td>\n",
       "      <td>18.000000</td>\n",
       "      <td>28.000000</td>\n",
       "      <td>0.994830</td>\n",
       "      <td>3.550000</td>\n",
       "      <td>0.660000</td>\n",
       "      <td>10.900000</td>\n",
       "    </tr>\n",
       "  </tbody>\n",
       "</table>\n",
       "<p>553 rows × 11 columns</p>\n",
       "</div>"
      ],
      "text/plain": [
       "      fixed acidity  volatile acidity  citric acid  residual sugar  chlorides  \\\n",
       "1988       8.989347          0.339794     0.368728        2.132989   0.065766   \n",
       "1216       7.900000          0.570000     0.310000        2.000000   0.079000   \n",
       "1385       8.000000          0.810000     0.250000        3.400000   0.076000   \n",
       "2562       7.817187          0.380573     0.439427        3.786977   0.075646   \n",
       "1334       7.200000          0.835000     0.000000        2.000000   0.166000   \n",
       "...             ...               ...          ...             ...        ...   \n",
       "2330       8.139398          0.497272     0.276364        5.278786   0.066182   \n",
       "1694       9.475701          0.287477     0.470935        2.271028   0.076047   \n",
       "100        8.300000          0.610000     0.300000        2.100000   0.084000   \n",
       "315        7.100000          0.350000     0.290000        2.500000   0.096000   \n",
       "1587       5.800000          0.610000     0.110000        1.800000   0.066000   \n",
       "\n",
       "      free sulfur dioxide  total sulfur dioxide   density        pH  \\\n",
       "1988            12.446737             27.553263  0.994994  3.265533   \n",
       "1216            10.000000             79.000000  0.996770  3.290000   \n",
       "1385            34.000000             85.000000  0.996680  3.190000   \n",
       "2562            24.411458             43.177084  0.995324  3.334167   \n",
       "1334             4.000000             11.000000  0.996080  3.390000   \n",
       "...                   ...                   ...       ...       ...   \n",
       "2330            10.484847             19.030306  0.996767  3.373939   \n",
       "1694            10.523365             19.953271  0.995928  3.315794   \n",
       "100             11.000000             50.000000  0.997200  3.400000   \n",
       "315             20.000000             53.000000  0.996200  3.420000   \n",
       "1587            18.000000             28.000000  0.994830  3.550000   \n",
       "\n",
       "      sulphates    alcohol  \n",
       "1988   0.790206  12.197937  \n",
       "1216   0.690000   9.500000  \n",
       "1385   0.420000   9.200000  \n",
       "2562   0.817083  11.658333  \n",
       "1334   0.520000  10.000000  \n",
       "...         ...        ...  \n",
       "2330   0.693031  11.521214  \n",
       "1694   0.691963  11.742991  \n",
       "100    0.610000  10.200000  \n",
       "315    0.650000  11.000000  \n",
       "1587   0.660000  10.900000  \n",
       "\n",
       "[553 rows x 11 columns]"
      ]
     },
     "execution_count": 11,
     "metadata": {},
     "output_type": "execute_result"
    }
   ],
   "source": [
    "X_test"
   ]
  },
  {
   "cell_type": "code",
   "execution_count": 12,
   "id": "0693ff27",
   "metadata": {},
   "outputs": [
    {
     "data": {
      "text/plain": [
       "(553, 11)"
      ]
     },
     "execution_count": 12,
     "metadata": {},
     "output_type": "execute_result"
    }
   ],
   "source": [
    "X_test.shape"
   ]
  },
  {
   "cell_type": "code",
   "execution_count": 13,
   "id": "54c3f7ee",
   "metadata": {},
   "outputs": [
    {
     "data": {
      "text/plain": [
       "fixed acidity            15.600000\n",
       "volatile acidity          1.580000\n",
       "citric acid               0.760000\n",
       "residual sugar           13.800000\n",
       "chlorides                 0.415000\n",
       "free sulfur dioxide      72.000000\n",
       "total sulfur dioxide    284.256213\n",
       "density                   1.003150\n",
       "pH                        4.010000\n",
       "sulphates                 1.610000\n",
       "alcohol                  14.000000\n",
       "dtype: float64"
      ]
     },
     "execution_count": 13,
     "metadata": {},
     "output_type": "execute_result"
    }
   ],
   "source": [
    "X_test.max()"
   ]
  },
  {
   "cell_type": "code",
   "execution_count": 14,
   "id": "d5522171",
   "metadata": {},
   "outputs": [
    {
     "name": "stderr",
     "output_type": "stream",
     "text": [
      "D:\\python 3.10.6\\lib\\site-packages\\sklearn\\linear_model\\_logistic.py:444: ConvergenceWarning: lbfgs failed to converge (status=1):\n",
      "STOP: TOTAL NO. of ITERATIONS REACHED LIMIT.\n",
      "\n",
      "Increase the number of iterations (max_iter) or scale the data as shown in:\n",
      "    https://scikit-learn.org/stable/modules/preprocessing.html\n",
      "Please also refer to the documentation for alternative solver options:\n",
      "    https://scikit-learn.org/stable/modules/linear_model.html#logistic-regression\n",
      "  n_iter_i = _check_optimize_result(\n"
     ]
    }
   ],
   "source": [
    "log=LogisticRegression()\n",
    "log.fit(X_train, y_train)\n",
    "y_pred1=log.predict(X_test)"
   ]
  },
  {
   "cell_type": "code",
   "execution_count": 15,
   "id": "b1166e8c",
   "metadata": {},
   "outputs": [
    {
     "data": {
      "text/plain": [
       "0.8155515370705244"
      ]
     },
     "execution_count": 15,
     "metadata": {},
     "output_type": "execute_result"
    }
   ],
   "source": [
    "accuracy_score(y_test, y_pred1)"
   ]
  },
  {
   "cell_type": "code",
   "execution_count": 16,
   "id": "9f298f94",
   "metadata": {},
   "outputs": [
    {
     "data": {
      "text/plain": [
       "0.7836879432624113"
      ]
     },
     "execution_count": 16,
     "metadata": {},
     "output_type": "execute_result"
    }
   ],
   "source": [
    "precision_score(y_test, y_pred1)"
   ]
  },
  {
   "cell_type": "code",
   "execution_count": 17,
   "id": "2b0a8c5f",
   "metadata": {},
   "outputs": [
    {
     "data": {
      "text/plain": [
       "0.8435114503816794"
      ]
     },
     "execution_count": 17,
     "metadata": {},
     "output_type": "execute_result"
    }
   ],
   "source": [
    "recall_score(y_test, y_pred1)"
   ]
  },
  {
   "cell_type": "code",
   "execution_count": 18,
   "id": "ff4979db",
   "metadata": {},
   "outputs": [
    {
     "data": {
      "text/plain": [
       "0.8125"
      ]
     },
     "execution_count": 18,
     "metadata": {},
     "output_type": "execute_result"
    }
   ],
   "source": [
    "f1_score(y_test, y_pred1)"
   ]
  },
  {
   "cell_type": "code",
   "execution_count": 19,
   "id": "1faf4a3e",
   "metadata": {},
   "outputs": [],
   "source": [
    "svm = svm.SVC()\n",
    "svm.fit(X_train, y_train)\n",
    "y_pred2=svm.predict(X_test)"
   ]
  },
  {
   "cell_type": "code",
   "execution_count": 20,
   "id": "1d0a0789",
   "metadata": {},
   "outputs": [
    {
     "data": {
      "text/plain": [
       "0.72875226039783"
      ]
     },
     "execution_count": 20,
     "metadata": {},
     "output_type": "execute_result"
    }
   ],
   "source": [
    "accuracy_score(y_test, y_pred2)"
   ]
  },
  {
   "cell_type": "code",
   "execution_count": 21,
   "id": "5b837b39",
   "metadata": {},
   "outputs": [
    {
     "data": {
      "text/plain": [
       "0.6772151898734177"
      ]
     },
     "execution_count": 21,
     "metadata": {},
     "output_type": "execute_result"
    }
   ],
   "source": [
    "precision_score(y_test, y_pred2)"
   ]
  },
  {
   "cell_type": "code",
   "execution_count": 22,
   "id": "87e2529e",
   "metadata": {},
   "outputs": [
    {
     "data": {
      "text/plain": [
       "0.816793893129771"
      ]
     },
     "execution_count": 22,
     "metadata": {},
     "output_type": "execute_result"
    }
   ],
   "source": [
    "recall_score(y_test, y_pred2)"
   ]
  },
  {
   "cell_type": "code",
   "execution_count": 23,
   "id": "5a0ceeaf",
   "metadata": {},
   "outputs": [
    {
     "data": {
      "text/plain": [
       "0.740484429065744"
      ]
     },
     "execution_count": 23,
     "metadata": {},
     "output_type": "execute_result"
    }
   ],
   "source": [
    "f1_score(y_test, y_pred2)"
   ]
  },
  {
   "cell_type": "code",
   "execution_count": 24,
   "id": "65a4936e",
   "metadata": {},
   "outputs": [],
   "source": [
    "knn = KNeighborsClassifier()\n",
    "knn.fit(X_train, y_train)\n",
    "y_pred3 = knn.predict(X_test)"
   ]
  },
  {
   "cell_type": "code",
   "execution_count": 25,
   "id": "052a776a",
   "metadata": {},
   "outputs": [
    {
     "data": {
      "text/plain": [
       "0.8571428571428571"
      ]
     },
     "execution_count": 25,
     "metadata": {},
     "output_type": "execute_result"
    }
   ],
   "source": [
    "accuracy_score(y_test, y_pred3)"
   ]
  },
  {
   "cell_type": "code",
   "execution_count": 26,
   "id": "b7210be8",
   "metadata": {},
   "outputs": [
    {
     "data": {
      "text/plain": [
       "0.7815384615384615"
      ]
     },
     "execution_count": 26,
     "metadata": {},
     "output_type": "execute_result"
    }
   ],
   "source": [
    "precision_score(y_test, y_pred3)"
   ]
  },
  {
   "cell_type": "code",
   "execution_count": 27,
   "id": "407fae28",
   "metadata": {},
   "outputs": [
    {
     "data": {
      "text/plain": [
       "0.9694656488549618"
      ]
     },
     "execution_count": 27,
     "metadata": {},
     "output_type": "execute_result"
    }
   ],
   "source": [
    "recall_score(y_test, y_pred3)"
   ]
  },
  {
   "cell_type": "code",
   "execution_count": 28,
   "id": "db51c3b1",
   "metadata": {},
   "outputs": [
    {
     "data": {
      "text/plain": [
       "0.8654173764906303"
      ]
     },
     "execution_count": 28,
     "metadata": {},
     "output_type": "execute_result"
    }
   ],
   "source": [
    "f1_score(y_test, y_pred3)"
   ]
  },
  {
   "cell_type": "code",
   "execution_count": 29,
   "id": "493868c3",
   "metadata": {},
   "outputs": [],
   "source": [
    "dt = DecisionTreeClassifier()\n",
    "dt.fit(X_train, y_train)\n",
    "y_pred4 = dt.predict(X_test)"
   ]
  },
  {
   "cell_type": "code",
   "execution_count": 30,
   "id": "52ee2e74",
   "metadata": {},
   "outputs": [
    {
     "data": {
      "text/plain": [
       "0.9041591320072333"
      ]
     },
     "execution_count": 30,
     "metadata": {},
     "output_type": "execute_result"
    }
   ],
   "source": [
    "accuracy_score(y_test, y_pred4)"
   ]
  },
  {
   "cell_type": "code",
   "execution_count": 31,
   "id": "297e95ea",
   "metadata": {},
   "outputs": [
    {
     "data": {
      "text/plain": [
       "0.8718861209964412"
      ]
     },
     "execution_count": 31,
     "metadata": {},
     "output_type": "execute_result"
    }
   ],
   "source": [
    "precision_score(y_test, y_pred4)"
   ]
  },
  {
   "cell_type": "code",
   "execution_count": 32,
   "id": "01503fcb",
   "metadata": {},
   "outputs": [
    {
     "data": {
      "text/plain": [
       "0.9351145038167938"
      ]
     },
     "execution_count": 32,
     "metadata": {},
     "output_type": "execute_result"
    }
   ],
   "source": [
    "recall_score(y_test, y_pred4)"
   ]
  },
  {
   "cell_type": "code",
   "execution_count": 33,
   "id": "64031c63",
   "metadata": {},
   "outputs": [
    {
     "data": {
      "text/plain": [
       "0.9023941068139963"
      ]
     },
     "execution_count": 33,
     "metadata": {},
     "output_type": "execute_result"
    }
   ],
   "source": [
    "f1_score(y_test, y_pred4)"
   ]
  },
  {
   "cell_type": "code",
   "execution_count": 34,
   "id": "c73b3e24",
   "metadata": {},
   "outputs": [],
   "source": [
    "rf = RandomForestClassifier()\n",
    "rf.fit(X_train, y_train)\n",
    "y_pred5 = rf.predict(X_test)"
   ]
  },
  {
   "cell_type": "code",
   "execution_count": 35,
   "id": "f293f74f",
   "metadata": {},
   "outputs": [
    {
     "data": {
      "text/plain": [
       "0.9330922242314648"
      ]
     },
     "execution_count": 35,
     "metadata": {},
     "output_type": "execute_result"
    }
   ],
   "source": [
    "accuracy_score(y_test, y_pred5)"
   ]
  },
  {
   "cell_type": "code",
   "execution_count": 36,
   "id": "c9f1e72b",
   "metadata": {},
   "outputs": [
    {
     "data": {
      "text/plain": [
       "0.89198606271777"
      ]
     },
     "execution_count": 36,
     "metadata": {},
     "output_type": "execute_result"
    }
   ],
   "source": [
    "precision_score(y_test, y_pred5)"
   ]
  },
  {
   "cell_type": "code",
   "execution_count": 37,
   "id": "95e10119",
   "metadata": {},
   "outputs": [
    {
     "data": {
      "text/plain": [
       "0.9770992366412213"
      ]
     },
     "execution_count": 37,
     "metadata": {},
     "output_type": "execute_result"
    }
   ],
   "source": [
    "recall_score(y_test, y_pred5)"
   ]
  },
  {
   "cell_type": "code",
   "execution_count": 38,
   "id": "2af034ad",
   "metadata": {},
   "outputs": [
    {
     "data": {
      "text/plain": [
       "0.9326047358834243"
      ]
     },
     "execution_count": 38,
     "metadata": {},
     "output_type": "execute_result"
    }
   ],
   "source": [
    "f1_score(y_test, y_pred5)"
   ]
  },
  {
   "cell_type": "code",
   "execution_count": 39,
   "id": "c2041515",
   "metadata": {},
   "outputs": [],
   "source": [
    "gbc=GradientBoostingClassifier()\n",
    "gbc.fit(X_train, y_train)\n",
    "y_pred6 = gbc.predict(X_test)"
   ]
  },
  {
   "cell_type": "code",
   "execution_count": 40,
   "id": "28d717d3",
   "metadata": {},
   "outputs": [
    {
     "data": {
      "text/plain": [
       "0.891500904159132"
      ]
     },
     "execution_count": 40,
     "metadata": {},
     "output_type": "execute_result"
    }
   ],
   "source": [
    "accuracy_score(y_test, y_pred6)"
   ]
  },
  {
   "cell_type": "code",
   "execution_count": 41,
   "id": "600d3fce",
   "metadata": {},
   "outputs": [
    {
     "data": {
      "text/plain": [
       "0.8458904109589042"
      ]
     },
     "execution_count": 41,
     "metadata": {},
     "output_type": "execute_result"
    }
   ],
   "source": [
    "precision_score(y_test, y_pred6)"
   ]
  },
  {
   "cell_type": "code",
   "execution_count": 42,
   "id": "0772447e",
   "metadata": {},
   "outputs": [
    {
     "data": {
      "text/plain": [
       "0.9427480916030534"
      ]
     },
     "execution_count": 42,
     "metadata": {},
     "output_type": "execute_result"
    }
   ],
   "source": [
    "recall_score(y_test, y_pred6)"
   ]
  },
  {
   "cell_type": "code",
   "execution_count": 43,
   "id": "5d25f35b",
   "metadata": {},
   "outputs": [
    {
     "data": {
      "text/plain": [
       "0.8916967509025271"
      ]
     },
     "execution_count": 43,
     "metadata": {},
     "output_type": "execute_result"
    }
   ],
   "source": [
    "f1_score(y_test, y_pred6)"
   ]
  },
  {
   "cell_type": "markdown",
   "id": "caac9a84",
   "metadata": {},
   "source": [
    "# Visualizing Results"
   ]
  },
  {
   "cell_type": "code",
   "execution_count": 44,
   "id": "caf2a70d",
   "metadata": {},
   "outputs": [],
   "source": [
    "Final_Results = pd.DataFrame({'Models':['Logestic Regression', 'Support Vector Classifier', 'K-nearest Neighbor', 'Decision Tree', 'Random Forest', 'Gradient Boosting Classifier'],\n",
    "                              'Accuracy':[accuracy_score(y_test, y_pred1)*100,\n",
    "                                         accuracy_score(y_test, y_pred2)*100,\n",
    "                                         accuracy_score(y_test, y_pred3)*100,\n",
    "                                         accuracy_score(y_test, y_pred4)*100,\n",
    "                                         accuracy_score(y_test, y_pred5)*100,\n",
    "                                         accuracy_score(y_test, y_pred6)*100]\n",
    "                             })"
   ]
  },
  {
   "cell_type": "code",
   "execution_count": 45,
   "id": "ff0d8d85",
   "metadata": {},
   "outputs": [
    {
     "data": {
      "text/html": [
       "<div>\n",
       "<style scoped>\n",
       "    .dataframe tbody tr th:only-of-type {\n",
       "        vertical-align: middle;\n",
       "    }\n",
       "\n",
       "    .dataframe tbody tr th {\n",
       "        vertical-align: top;\n",
       "    }\n",
       "\n",
       "    .dataframe thead th {\n",
       "        text-align: right;\n",
       "    }\n",
       "</style>\n",
       "<table border=\"1\" class=\"dataframe\">\n",
       "  <thead>\n",
       "    <tr style=\"text-align: right;\">\n",
       "      <th></th>\n",
       "      <th>Models</th>\n",
       "      <th>Accuracy</th>\n",
       "    </tr>\n",
       "  </thead>\n",
       "  <tbody>\n",
       "    <tr>\n",
       "      <th>0</th>\n",
       "      <td>Logestic Regression</td>\n",
       "      <td>81.555154</td>\n",
       "    </tr>\n",
       "    <tr>\n",
       "      <th>1</th>\n",
       "      <td>Support Vector Classifier</td>\n",
       "      <td>72.875226</td>\n",
       "    </tr>\n",
       "    <tr>\n",
       "      <th>2</th>\n",
       "      <td>K-nearest Neighbor</td>\n",
       "      <td>85.714286</td>\n",
       "    </tr>\n",
       "    <tr>\n",
       "      <th>3</th>\n",
       "      <td>Decision Tree</td>\n",
       "      <td>90.415913</td>\n",
       "    </tr>\n",
       "    <tr>\n",
       "      <th>4</th>\n",
       "      <td>Random Forest</td>\n",
       "      <td>93.309222</td>\n",
       "    </tr>\n",
       "    <tr>\n",
       "      <th>5</th>\n",
       "      <td>Gradient Boosting Classifier</td>\n",
       "      <td>89.150090</td>\n",
       "    </tr>\n",
       "  </tbody>\n",
       "</table>\n",
       "</div>"
      ],
      "text/plain": [
       "                         Models   Accuracy\n",
       "0           Logestic Regression  81.555154\n",
       "1     Support Vector Classifier  72.875226\n",
       "2            K-nearest Neighbor  85.714286\n",
       "3                 Decision Tree  90.415913\n",
       "4                 Random Forest  93.309222\n",
       "5  Gradient Boosting Classifier  89.150090"
      ]
     },
     "execution_count": 45,
     "metadata": {},
     "output_type": "execute_result"
    }
   ],
   "source": [
    "Final_Results"
   ]
  },
  {
   "cell_type": "code",
   "execution_count": 46,
   "id": "b3133013",
   "metadata": {},
   "outputs": [
    {
     "name": "stderr",
     "output_type": "stream",
     "text": [
      "D:\\python 3.10.6\\lib\\site-packages\\seaborn\\_decorators.py:36: FutureWarning: Pass the following variables as keyword args: x, y. From version 0.12, the only valid positional argument will be `data`, and passing other arguments without an explicit keyword will result in an error or misinterpretation.\n",
      "  warnings.warn(\n"
     ]
    },
    {
     "data": {
      "text/plain": [
       "<AxesSubplot:xlabel='Models', ylabel='Accuracy'>"
      ]
     },
     "execution_count": 46,
     "metadata": {},
     "output_type": "execute_result"
    },
    {
     "data": {
      "image/png": "[encoded data removed]",
      "text/plain": [
       "<Figure size 1080x360 with 1 Axes>"
      ]
     },
     "metadata": {
      "needs_background": "light"
     },
     "output_type": "display_data"
    }
   ],
   "source": [
    "plt.figure(figsize=(15,5))\n",
    "sns.barplot(Final_Results['Models'], Final_Results['Accuracy'])"
   ]
  },
  {
   "cell_type": "code",
   "execution_count": null,
   "id": "556c9802",
   "metadata": {},
   "outputs": [],
   "source": []
  },
  {
   "cell_type": "code",
   "execution_count": null,
   "id": "ee54e0ae",
   "metadata": {},
   "outputs": [],
   "source": []
  },
  {
   "cell_type": "code",
   "execution_count": null,
   "id": "8e9658a0",
   "metadata": {},
   "outputs": [],
   "source": []
  }
 ],
 "metadata": {
  "kernelspec": {
   "display_name": "Python 3 (ipykernel)",
   "language": "python",
   "name": "python3"
  },
  "language_info": {
   "codemirror_mode": {
    "name": "ipython",
    "version": 3
   },
   "file_extension": ".py",
   "mimetype": "text/x-python",
   "name": "python",
   "nbconvert_exporter": "python",
   "pygments_lexer": "ipython3",
   "version": "3.10.6"
  }
 },
 "nbformat": 4,
 "nbformat_minor": 5
}
